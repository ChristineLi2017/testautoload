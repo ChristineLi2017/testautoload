{
    "cells": [
        {
            "cell_type": "markdown", 
            "source": "## Prepare\nWhen running this notebook in automation, the following variables will be assigned at runtime automaticately based on the environment.", 
            "metadata": {}
        }, 
        {
            "cell_type": "code", 
            "source": "env=\"prod\"", 
            "execution_count": 1, 
            "outputs": [], 
            "metadata": {
                "collapsed": true
            }
        }, 
        {
            "cell_type": "code", 
            "source": "#gitUrl=\"$GIT_URL$\"\n#ingestUrl=\"$INGEST_URL$\"\n#transformUrl=\"$TRANSFORM_URL$\"\n#pipelineUrl=\"$PIPELINE_URL$\"\n#realtimeUrl=\"$REALTIME_URL$\"\n#access_token=\"$ACCESS_TOKEN$\"\n\ngitUrl=\"https://\"+env+\"-git-ml.spark.bluemix.net:12501/v1\"\ningestUrl=\"https://ingestion-\"+env+\".spark.bluemix.net:13100/v1\"\npipelineUrl=\"https://pipeline-\"+env+\".spark.bluemix.net:13200/v1\"\nrealtimeUrl=\"https://\"+env+\"-realtime-ml.spark.bluemix.net:14500/v1\"", 
            "execution_count": 2, 
            "outputs": [], 
            "metadata": {
                "collapsed": true
            }
        }, 
        {
            "cell_type": "code", 
            "source": "import getpass\naccess_token = getpass.getpass('ibm.ax.token')\naccess_token", 
            "execution_count": 3, 
            "outputs": [
                {
                    "output_type": "execute_result", 
                    "execution_count": 3, 
                    "data": {
                        "text/plain": "'ASN3i0UPQSF6xCt3ZzbXi2mCrPIW7HWiyIfzOVT2'"
                    }, 
                    "metadata": {}
                }
            ], 
            "metadata": {
                "collapsed": false
            }
        }, 
        {
            "cell_type": "code", 
            "source": "os.environ[\"SPARK_MASTER_IP\"]", 
            "execution_count": 4, 
            "outputs": [
                {
                    "output_type": "execute_result", 
                    "execution_count": 4, 
                    "data": {
                        "text/plain": "'yp-spark-dal09-env5-0031'"
                    }, 
                    "metadata": {}
                }
            ], 
            "metadata": {
                "collapsed": false
            }
        }, 
        {
            "cell_type": "code", 
            "source": "bearer_token = \"Bearer \"+access_token\nheader = {'Content-Type': 'application/json', 'Accept': 'application/json', 'Authorization': bearer_token}", 
            "execution_count": 5, 
            "outputs": [], 
            "metadata": {
                "collapsed": true
            }
        }, 
        {
            "cell_type": "markdown", 
            "source": "# 1. Create kernel", 
            "metadata": {}
        }, 
        {
            "cell_type": "code", 
            "source": "import requests\n\ninstanceId = os.environ[\"NOTEBOOK_TENANT_ID\"]\n\nurl = ingestUrl + \"/ingest/kernel\"\npayload = {\"instanceID\": instanceId}\n\nresponse = requests.post(url, json=payload, headers=header)\n\nstatus = response.status_code\nstatement = response.text\nif status != 200:\n    raise Exception(\"Create Kernel failed\", \"status code=\"+str(status), statement)\n\nkernelId = response.json()[\"kernelId\"]\nprint kernelId", 
            "execution_count": 6, 
            "outputs": [
                {
                    "output_type": "stream", 
                    "text": "6f80f423-c3b0-4dfa-bfdb-021d927cc074\n", 
                    "name": "stdout"
                }
            ], 
            "metadata": {
                "collapsed": false
            }
        }, 
        {
            "cell_type": "markdown", 
            "source": "# 2. Load CSV file from Object Storage", 
            "metadata": {}
        }, 
        {
            "cell_type": "code", 
            "source": "\n# @hidden_cell\ncredentials_1 = {\n  'auth_url':'https://identity.open.softlayer.com',\n  'project':'object_storage_79b50d72_4e93_430e_b07c_504e2326d4c7',\n  'project_id':'6ec903dcbd8a4fc5932519a51498e8ab',\n  'region':'dallas',\n  'user_id':'2c6baf4fd01e47838b4bd599bd40246c',\n  'domain_id':'d4015e761ec34d1682e35fdcbe0c3e56',\n  'domain_name':'1026663',\n  'username':'member_a5823a7e172e44380882d3b89c81db57cacf85e5',\n  'password':\"\"\"My7I3KxYAn*V?h!3\"\"\",\n  'container':'ANov17',\n  'tenantId':'undefined',\n  'filename':'transactions-for-nb-pipeline.csv'\n}\n", 
            "execution_count": 7, 
            "outputs": [], 
            "metadata": {
                "collapsed": true
            }
        }, 
        {
            "cell_type": "code", 
            "source": "url = ingestUrl + \"/ingest/load\"\npayload = {\"instanceID\": instanceId,\n           \"kernelID\":kernelId, \n           \"loadOptions\": { \n                \"type\":\"bluemixobjectstorage\", \n                \"connection.authurl\": credentials_1[\"auth_url\"],\n                \"connection.userid\": credentials_1[\"user_id\"],\n                \"connection.password\": credentials_1[\"password\"],\n                \"connection.projectid\": credentials_1[\"project_id\"],\n                \"connection.region\": credentials_1[\"region\"],\n                \"source.container\": credentials_1[\"container\"],\n                \"source.inferschema\": \"1\",\n                \"source.filename\": credentials_1[\"filename\"],\n                \"source.fileformat\": \"csv\", \n                \"source.firstlineisheader\": \"true\" } \n          }\n\nresponse = requests.post(url, json=payload, headers=header)\n\nstatus = response.status_code\nstatement = response.text\nif status != 200:\n    raise Exception(\"Load CSV from Object Storage failed\", \"status code=\"+str(status), statement)\n    \nprint statement", 
            "execution_count": 8, 
            "outputs": [
                {
                    "output_type": "stream", 
                    "text": "{\"outDfName\":\"res1480628235649\",\"responseCode\":\"Success\",\"message\":\"Code completed successfully!\",\"moreInfo\":\"Rows:\\n{\\\"PRODUCT_LINE\\\":\\\"Personal Accessories\\\",\\\"GENDER\\\":\\\"M\\\",\\\"AGE\\\":27,\\\"MARITAL_STATUS\\\":\\\"Single\\\",\\\"PROFESSION\\\":\\\"Professional\\\"}\\n{\\\"PRODUCT_LINE\\\":\\\"Personal Accessories\\\",\\\"GENDER\\\":\\\"F\\\",\\\"AGE\\\":39,\\\"MARITAL_STATUS\\\":\\\"Married\\\",\\\"PROFESSION\\\":\\\"Other\\\"}\\n{\\\"PRODUCT_LINE\\\":\\\"Mountaineering Equipment\\\",\\\"GENDER\\\":\\\"F\\\",\\\"AGE\\\":39,\\\"MARITAL_STATUS\\\":\\\"Married\\\",\\\"PROFESSION\\\":\\\"Other\\\"}\\n{\\\"PRODUCT_LINE\\\":\\\"Personal Accessories\\\",\\\"GENDER\\\":\\\"F\\\",\\\"AGE\\\":56,\\\"MARITAL_STATUS\\\":\\\"Unspecified\\\",\\\"PROFESSION\\\":\\\"Hospitality\\\"}\\n{\\\"PRODUCT_LINE\\\":\\\"Golf Equipment\\\",\\\"GENDER\\\":\\\"M\\\",\\\"AGE\\\":45,\\\"MARITAL_STATUS\\\":\\\"Married\\\",\\\"PROFESSION\\\":\\\"Retired\\\"}\\n\"}\n", 
                    "name": "stdout"
                }
            ], 
            "metadata": {
                "collapsed": false
            }
        }, 
        {
            "cell_type": "code", 
            "source": "dfName = response.json()[\"outDfName\"]", 
            "execution_count": 9, 
            "outputs": [], 
            "metadata": {
                "collapsed": true
            }
        }, 
        {
            "cell_type": "markdown", 
            "source": "# 3. Split data into train, validate and test data", 
            "metadata": {}
        }, 
        {
            "cell_type": "code", 
            "source": "url = ingestUrl + \"/ingest/split\"\npayload = {\"instanceID\": instanceId, \n           \"kernelID\": kernelId, \n           \"inDfName\": dfName, \n           \"train\": 60, \n           \"test\": 20, \n           \"validate\": 20, \n           \"timeoutInSeconds\": 600\n          }\nresponse = requests.post(url, json=payload, headers=header)\n\nstatus = response.status_code\nstatement = response.text\nif status != 200:\n    raise Exception(\"Split DataFrame into train/validate/test data failed\", \"status code=\"+str(status), statement)\n    \nprint statement", 
            "execution_count": 10, 
            "outputs": [
                {
                    "output_type": "stream", 
                    "text": "{\"responseCode\":\"Success\",\"validateDFName\":\"validate_res1480628267539\",\"testDFName\":\"test_res1480628267539\",\"message\":\"Code completed successfully!\",\"trainDfName\":\"train_res1480628267539\"}\n", 
                    "name": "stdout"
                }
            ], 
            "metadata": {
                "collapsed": false
            }
        }, 
        {
            "cell_type": "code", 
            "source": "trainDfName = response.json()[\"trainDfName\"]\nvalidateDfName = response.json()[\"validateDFName\"]\ntestDfName = response.json()[\"testDFName\"]", 
            "execution_count": 11, 
            "outputs": [], 
            "metadata": {
                "collapsed": true
            }
        }, 
        {
            "cell_type": "markdown", 
            "source": "# 4. Create a model using some StringIndexer transformers and Naive Bayes Classifier", 
            "metadata": {}
        }, 
        {
            "cell_type": "code", 
            "source": "outModelName = \"outModel\"\npipelineRef = \"iautopipeline\"\nurl =  pipelineUrl + \"/pipeline/execution?instance_id=\"+instanceId+\"&kernel_id=\"+kernelId\npayload = {\"meta\": {},\n           \"inputDataBindings\": {\"id1\": {\"dataName\": trainDfName}},\n           \"outputBindings\": {\"id4\": {\"model\": outModelName}},\n           \"pipeline\": {\n               \"title\": \"Simple linear pipeline\",\n               \"reference\": pipelineRef,\n               \"kind\": \"scala\",\n               \"nodes\": [{\"ref\": \"id1\",\"className\": \"org.apache.spark.ml.feature.StringIndexer\",\n                          \"params\": {\"inputCol\": \"GENDER\",\"outputCol\": \"gender_code\"}},\n                         {\"ref\": \"id2\",\"className\": \"org.apache.spark.ml.feature.StringIndexer\",\n                          \"params\": {\"inputCol\": \"MARITAL_STATUS\",\"outputCol\": \"marital_status_code\"}},\n                         {\"ref\": \"id3\",\"className\": \"org.apache.spark.ml.feature.StringIndexer\",\n                          \"params\": {\"inputCol\": \"PROFESSION\",\"outputCol\": \"profession_code\"}},\n                         {\"ref\": \"id4\",\"className\": \"org.apache.spark.ml.feature.StringIndexer\",\n                          \"params\": {\"inputCol\": \"PRODUCT_LINE\",\"outputCol\": \"label\"}},\n                         {\"ref\": \"id5\",\"className\": \"org.apache.spark.ml.feature.VectorAssembler\",\n                          \"params\": {\"inputCols\": [\"gender_code\", \"AGE\", \"marital_status_code\", \"profession_code\"],\n                                     \"outputCol\": \"features\"}},\n                         {\"ref\": \"id6\",\"className\": \"org.apache.spark.ml.classification.NaiveBayes\",\n                          \"params\": {\"featuresCol\": \"features\", \"labelCol\":\"label\", \"modelType\":\"multinomial\"}}],\n               \"links\": [{\"from\": \"id1\",\"to\": \"id2\"},\n                         {\"from\": \"id2\",\"to\": \"id3\"},\n                         {\"from\": \"id3\",\"to\": \"id4\"},\n                         {\"from\": \"id4\",\"to\": \"id5\"},\n                         {\"from\": \"id5\",\"to\": \"id6\"}]\n               }\n          }\n\nresponse = requests.post(url, json=payload, headers=header)\n\nstatus = response.status_code\nstatement = response.text\nif status != 200:\n    raise Exception(\"Submits a pipeline for execution failed\", \"status code=\"+str(status), statement)\n    \nprint statement", 
            "execution_count": 12, 
            "outputs": [
                {
                    "output_type": "stream", 
                    "text": "{\n  \"pipelineRef\": \"iautopipeline\",\n  \"outputs\": [{\n    \"type\": \"model\",\n    \"ref\": \"outModel\"\n  }]\n}\n", 
                    "name": "stdout"
                }
            ], 
            "metadata": {
                "collapsed": false
            }
        }, 
        {
            "cell_type": "markdown", 
            "source": "# Validate the model", 
            "metadata": {}
        }, 
        {
            "cell_type": "code", 
            "source": "# https://ibm-jira.svl.ibm.com:8443/browse/SM-270\n\nurl =  pipelineUrl + \"/pipeline/model/metrics?instance_id=\"+instanceId+\"&kernel_id=\"+kernelId+\"&model_reference=\"+outModelName+\"&df_reference=\"+validateDfName+\"&model_type=binary\"\n\nresponse = requests.get(url, headers=header)\n\nstatus = response.status_code\nstatement = response.text\nif status != 200:\n    raise Exception(\"Validate model failed\", \"status code=\"+str(status), statement)\n    \nprint statement", 
            "execution_count": 13, 
            "outputs": [
                {
                    "output_type": "stream", 
                    "text": "{\"recallByThreshold\":[{\"threshold\":3.0,\"metric\":0.03847210772190162},{\"threshold\":2.0,\"metric\":0.04506732618851333},{\"threshold\":1.0,\"metric\":0.32907392140697994},{\"threshold\":0.0,\"metric\":1.0}],\"precisionByThreshold\":[{\"threshold\":3.0,\"metric\":0.9688581314878892},{\"threshold\":2.0,\"metric\":0.9318181818181818},{\"threshold\":1.0,\"metric\":0.7571925387290547},{\"threshold\":0.0,\"metric\":0.6014378976944054}],\"areaUnderPR\":0.7397561363205685,\"fMeasureByThreshold\":[{\"threshold\":3.0,\"metric\":0.07400555041628122},{\"threshold\":2.0,\"metric\":0.08597640891218873},{\"threshold\":1.0,\"metric\":0.45876831721099515},{\"threshold\":0.0,\"metric\":0.7511223489344135}],\"roc\":[{\"threshold\":0.0,\"metric\":0.0},{\"threshold\":0.0018660584698320546,\"metric\":0.03847210772190162},{\"threshold\":0.004976155919552146,\"metric\":0.04506732618851333},{\"threshold\":0.15923698942566866,\"metric\":0.32907392140697994},{\"threshold\":1.0,\"metric\":1.0},{\"threshold\":1.0,\"metric\":1.0}],\"areaUnderROC\":0.5877415695619432}\n\n", 
                    "name": "stdout"
                }
            ], 
            "metadata": {
                "collapsed": false
            }
        }, 
        {
            "cell_type": "markdown", 
            "source": "# Evaluate test data", 
            "metadata": {}
        }, 
        {
            "cell_type": "code", 
            "source": "url =  pipelineUrl + \"/pipeline/model/metrics?instance_id=\"+instanceId+\"&kernel_id=\"+kernelId+\"&model_reference=\"+outModelName+\"&df_reference=\"+testDfName+\"&model_type=binary\"\n\nresponse = requests.get(url, headers=header)\n\nstatus = response.status_code\nstatement = response.text\nif status != 200:\n    raise Exception(\"Evaluate test data failed\", \"status code=\"+str(status), statement)\n    \nprint statement", 
            "execution_count": 14, 
            "outputs": [
                {
                    "output_type": "stream", 
                    "text": "{\"recallByThreshold\":[{\"threshold\":3.0,\"metric\":0.03416919261504547},{\"threshold\":2.0,\"metric\":0.03995591071920639},{\"threshold\":1.0,\"metric\":0.331082942959493},{\"threshold\":0.0,\"metric\":1.0}],\"precisionByThreshold\":[{\"threshold\":3.0,\"metric\":0.9763779527559056},{\"threshold\":2.0,\"metric\":0.9446254071661238},{\"threshold\":1.0,\"metric\":0.7587622355541522},{\"threshold\":0.0,\"metric\":0.6011263872784496}],\"areaUnderPR\":0.742101214268422,\"fMeasureByThreshold\":[{\"threshold\":3.0,\"metric\":0.06602768903088392},{\"threshold\":2.0,\"metric\":0.07666886979510905},{\"threshold\":1.0,\"metric\":0.46100719424460435},{\"threshold\":0.0,\"metric\":0.7508793709911028}],\"roc\":[{\"threshold\":0.0,\"metric\":0.0},{\"threshold\":0.0012458471760797341,\"metric\":0.03416919261504547},{\"threshold\":0.0035299003322259138,\"metric\":0.03995591071920639},{\"threshold\":0.15863787375415284,\"metric\":0.331082942959493},{\"threshold\":1.0,\"metric\":1.0},{\"threshold\":1.0,\"metric\":1.0}],\"areaUnderROC\":0.5888428675106127}\n\n", 
                    "name": "stdout"
                }
            ], 
            "metadata": {
                "collapsed": false
            }
        }, 
        {
            "cell_type": "markdown", 
            "source": "# 5. Create a repository", 
            "metadata": {}
        }, 
        {
            "cell_type": "code", 
            "source": "import requests\n\nrepositoryName = \"clRepo_Nov29\"\nurl = gitUrl + \"/repos\"\npayload = {\"repoName\": repositoryName}\n\nresponse = requests.post(url, json=payload, headers=header)\n\nstatus = response.status_code\nstatement = response.text\n\nif status != 201 and status != 409:\n    raise Exception(\"Create repository failed\", \"status code=\"+str(status), statement)\n    \nprint statement", 
            "execution_count": 15, 
            "outputs": [
                {
                    "output_type": "stream", 
                    "text": "{\"message\":\"repoName:clRepo_Nov29 already exists\"}\n", 
                    "name": "stdout"
                }
            ], 
            "metadata": {
                "collapsed": false
            }
        }, 
        {
            "cell_type": "markdown", 
            "source": "# 6. Save Model", 
            "metadata": {}
        }, 
        {
            "cell_type": "code", 
            "source": "gitPath = repositoryName+\"/iautotest\"\nurl =  pipelineUrl + \"/pipeline/model/storage?instance_id=\"+instanceId+\"&kernel_id=\"+kernelId+\"&from_reference=\"+outModelName+\"&path=\"+gitPath\n\nresponse = requests.post(url, headers=header)\n\nstatus = response.status_code\nstatement = response.text\nif status != 200:\n    raise Exception(\"Save model failed\", \"status code=\"+str(status), statement)\n    \nprint statement", 
            "execution_count": 16, 
            "outputs": [
                {
                    "output_type": "stream", 
                    "text": "{\n  \"reference\": \"outModel\",\n  \"artifactId\": \"180\"\n}\n", 
                    "name": "stdout"
                }
            ], 
            "metadata": {
                "collapsed": false
            }
        }, 
        {
            "cell_type": "code", 
            "source": "artifactId = response.json()[\"artifactId\"]", 
            "execution_count": 17, 
            "outputs": [], 
            "metadata": {
                "collapsed": true
            }
        }, 
        {
            "cell_type": "markdown", 
            "source": "# Get meta data of the model", 
            "metadata": {}
        }, 
        {
            "cell_type": "code", 
            "source": "url = gitUrl + \"/repos/artifacts/meta/\"+artifactId\n\nmeta_header={'Accept': 'application/json', 'Authorization': bearer_token}\n\nresponse = requests.get(url, headers=meta_header)\n\nstatus = response.status_code\nstatement = response.text\nif status != 200:\n    raise Exception(\"Get model meta data failed\", \"status code=\"+str(status), statement)\n    \nprint statement", 
            "execution_count": 18, 
            "outputs": [
                {
                    "output_type": "stream", 
                    "text": "{\n  \"artifactId\" : 180,\n  \"baseArtifactId\" : 116,\n  \"version\" : 2,\n  \"commitHash\" : \"94a8cdc323f6daa203eea782fe00dc04bdc569c9\",\n  \"name\" : \"iautotest\",\n  \"repoPath\" : \"clRepo_Nov29/iautotest\",\n  \"artifactType\" : \"model\",\n  \"runTime\" : \"spark\",\n  \"description\" : \"model\",\n  \"modelOwner\" : \"jycli@ca.ibm.com\",\n  \"project\" : null,\n  \"inputSchema\" : \"{\\\"schema\\\":\\\"{\\\\\\\"type\\\\\\\":\\\\\\\"struct\\\\\\\",\\\\\\\"fields\\\\\\\":[{\\\\\\\"name\\\\\\\":\\\\\\\"PRODUCT_LINE\\\\\\\",\\\\\\\"type\\\\\\\":\\\\\\\"string\\\\\\\",\\\\\\\"nullable\\\\\\\":true,\\\\\\\"metadata\\\\\\\":{\\\\\\\"columnInfo\\\\\\\":{\\\\\\\"columnPrimaryKey\\\\\\\":false,\\\\\\\"columnTypeName\\\\\\\":\\\\\\\"varchar\\\\\\\",\\\\\\\"columnSigned\\\\\\\":true,\\\\\\\"columnType\\\\\\\":12,\\\\\\\"columnLength\\\\\\\":1024,\\\\\\\"columnNullable\\\\\\\":true,\\\\\\\"columnScale\\\\\\\":0}}},{\\\\\\\"name\\\\\\\":\\\\\\\"GENDER\\\\\\\",\\\\\\\"type\\\\\\\":\\\\\\\"string\\\\\\\",\\\\\\\"nullable\\\\\\\":true,\\\\\\\"metadata\\\\\\\":{\\\\\\\"columnInfo\\\\\\\":{\\\\\\\"columnPrimaryKey\\\\\\\":false,\\\\\\\"columnTypeName\\\\\\\":\\\\\\\"varchar\\\\\\\",\\\\\\\"columnSigned\\\\\\\":true,\\\\\\\"columnType\\\\\\\":12,\\\\\\\"columnLength\\\\\\\":1024,\\\\\\\"columnNullable\\\\\\\":true,\\\\\\\"columnScale\\\\\\\":0}}},{\\\\\\\"name\\\\\\\":\\\\\\\"AGE\\\\\\\",\\\\\\\"type\\\\\\\":\\\\\\\"integer\\\\\\\",\\\\\\\"nullable\\\\\\\":true,\\\\\\\"metadata\\\\\\\":{\\\\\\\"columnInfo\\\\\\\":{\\\\\\\"columnPrimaryKey\\\\\\\":false,\\\\\\\"columnTypeName\\\\\\\":\\\\\\\"integer\\\\\\\",\\\\\\\"columnSigned\\\\\\\":true,\\\\\\\"columnType\\\\\\\":4,\\\\\\\"columnLength\\\\\\\":-1,\\\\\\\"columnNullable\\\\\\\":true,\\\\\\\"columnScale\\\\\\\":0}}},{\\\\\\\"name\\\\\\\":\\\\\\\"MARITAL_STATUS\\\\\\\",\\\\\\\"type\\\\\\\":\\\\\\\"string\\\\\\\",\\\\\\\"nullable\\\\\\\":true,\\\\\\\"metadata\\\\\\\":{\\\\\\\"columnInfo\\\\\\\":{\\\\\\\"columnPrimaryKey\\\\\\\":false,\\\\\\\"columnTypeName\\\\\\\":\\\\\\\"varchar\\\\\\\",\\\\\\\"columnSigned\\\\\\\":true,\\\\\\\"columnType\\\\\\\":12,\\\\\\\"columnLength\\\\\\\":1024,\\\\\\\"columnNullable\\\\\\\":true,\\\\\\\"columnScale\\\\\\\":0}}},{\\\\\\\"name\\\\\\\":\\\\\\\"PROFESSION\\\\\\\",\\\\\\\"type\\\\\\\":\\\\\\\"string\\\\\\\",\\\\\\\"nullable\\\\\\\":true,\\\\\\\"metadata\\\\\\\":{\\\\\\\"columnInfo\\\\\\\":{\\\\\\\"columnPrimaryKey\\\\\\\":false,\\\\\\\"columnTypeName\\\\\\\":\\\\\\\"varchar\\\\\\\",\\\\\\\"columnSigned\\\\\\\":true,\\\\\\\"columnType\\\\\\\":12,\\\\\\\"columnLength\\\\\\\":1024,\\\\\\\"columnNullable\\\\\\\":true,\\\\\\\"columnScale\\\\\\\":0}}}]}\\\",\\\"labelCol\\\":\\\"PRODUCT_LINE\\\"}\",\n  \"outputSchema\" : \"\",\n  \"status\" : \"ACTIVE\",\n  \"size\" : 284697656,\n  \"stages\" : 6,\n  \"trainingData\" : \"\",\n  \"validationData\" : \"\",\n  \"holdoutData\" : \"\",\n  \"modelMetricsValidation\" : \"\",\n  \"modelMetricsHoldout\" : \"\",\n  \"createdBy\" : \"ngpuser1@in.ibm.com\",\n  \"createdDate\" : 1480628376271,\n  \"lastUpdatedBy\" : \"ngpuser1@in.ibm.com\",\n  \"lastUpdatedDate\" : 1480628376271\n}\n", 
                    "name": "stdout"
                }
            ], 
            "metadata": {
                "collapsed": false
            }
        }, 
        {
            "cell_type": "markdown", 
            "source": "# 6. Realtime Deploy the model", 
            "metadata": {}
        }, 
        {
            "cell_type": "code", 
            "source": "url =  realtimeUrl + \"/deployment/model/realtime\"\n\npayload = {\"modelId\": artifactId,\n           \"avgRequest\":10\n}\n\nresponse = requests.post(url, json=payload, headers=header)\n\nstatus = response.status_code\nstatement = response.text\n\n# if reaching the maximum deploy limit in the realtime deploy\nif status == 402:\n    # list active deployed model \n    url_1 = realtimeUrl+\"/deployment/model/realtime?status=ACTIVE\"\n    response = requests.get(url_1, headers=header)\n    if response.status_code != 200:\n        raise Exception(\"List ACTIVE deployed model failed when trying to freeup resource\", response.text)\n    # delete the 1st active deployed model\n    depId = response.json()[\"deployedInfo\"][0].get(\"deploymentId\")\n    url_2 = realtimeUrl+\"/deployment/model/realtime/\"+depId\n    response = requests.delete(url_2, headers=header)\n    if response.status_code != 204:\n        raise Exception(\"Delete deployed model failed when trying to freeup resource\", response.text)\n    # re-deploy\n    response = requests.post(url, json=payload, headers=header)\n    status = response.status_code\n    statement = response.text\n    if status != 201:\n        raise Exception(\"Something went wrong Re-Realtime Deploy failed\", \"status code=\"+str(status), statement)\nelif status != 201:\n    raise Exception(\"Realtime Deploy failed\", \"status code=\"+str(status), statement)\n    \nprint statement", 
            "execution_count": 19, 
            "outputs": [
                {
                    "output_type": "stream", 
                    "text": "{\"deploymentId\":\"227\",\"scoringEndPoint\":\"https://prod-scoring-ml.spark.bluemix.net:32768/v1/score/227\",\"scoringApiKey\":\"hlmh+NzxdE5MqdQVDdRENg==\",\"feedBackEndPoints\":{\"realtime\":\"N/A\",\"batch\":\"N/A\"}}\n", 
                    "name": "stdout"
                }
            ], 
            "metadata": {
                "collapsed": false
            }
        }, 
        {
            "cell_type": "code", 
            "source": "scoringEndPoint = response.json()[\"scoringEndPoint\"]\nscoringApiKey = response.json()[\"scoringApiKey\"]\ndeploymentId = response.json()[\"deploymentId\"]", 
            "execution_count": 20, 
            "outputs": [], 
            "metadata": {
                "collapsed": true
            }
        }, 
        {
            "cell_type": "code", 
            "source": "url =  realtimeUrl + \"/deployment/model/realtime?status=ACTIVE\"\n\nresponse = requests.get(url, headers=header)\n\nstatus = response.status_code\nstatement = response.text\n\nif status != 200:\n    raise Exception(\"List ACTIVE deployed model failed\", \"status code=\"+str(status), statement)\n    \nprint statement", 
            "execution_count": 21, 
            "outputs": [
                {
                    "output_type": "stream", 
                    "text": "{\"deployedInfo\":[{\"modelId\":\"180\",\"deploymentId\":\"227\",\"avgRequest\":10,\"peakRequest\":10,\"status\":\"ACTIVE\",\"schema\":\"{\\\"schema\\\":\\\"{\\\\\\\"type\\\\\\\":\\\\\\\"struct\\\\\\\",\\\\\\\"fields\\\\\\\":[{\\\\\\\"name\\\\\\\":\\\\\\\"PRODUCT_LINE\\\\\\\",\\\\\\\"type\\\\\\\":\\\\\\\"string\\\\\\\",\\\\\\\"nullable\\\\\\\":true,\\\\\\\"metadata\\\\\\\":{\\\\\\\"columnInfo\\\\\\\":{\\\\\\\"columnPrimaryKey\\\\\\\":false,\\\\\\\"columnTypeName\\\\\\\":\\\\\\\"varchar\\\\\\\",\\\\\\\"columnSigned\\\\\\\":true,\\\\\\\"columnType\\\\\\\":12,\\\\\\\"columnLength\\\\\\\":1024,\\\\\\\"columnNullable\\\\\\\":true,\\\\\\\"columnScale\\\\\\\":0}}},{\\\\\\\"name\\\\\\\":\\\\\\\"GENDER\\\\\\\",\\\\\\\"type\\\\\\\":\\\\\\\"string\\\\\\\",\\\\\\\"nullable\\\\\\\":true,\\\\\\\"metadata\\\\\\\":{\\\\\\\"columnInfo\\\\\\\":{\\\\\\\"columnPrimaryKey\\\\\\\":false,\\\\\\\"columnTypeName\\\\\\\":\\\\\\\"varchar\\\\\\\",\\\\\\\"columnSigned\\\\\\\":true,\\\\\\\"columnType\\\\\\\":12,\\\\\\\"columnLength\\\\\\\":1024,\\\\\\\"columnNullable\\\\\\\":true,\\\\\\\"columnScale\\\\\\\":0}}},{\\\\\\\"name\\\\\\\":\\\\\\\"AGE\\\\\\\",\\\\\\\"type\\\\\\\":\\\\\\\"integer\\\\\\\",\\\\\\\"nullable\\\\\\\":true,\\\\\\\"metadata\\\\\\\":{\\\\\\\"columnInfo\\\\\\\":{\\\\\\\"columnPrimaryKey\\\\\\\":false,\\\\\\\"columnTypeName\\\\\\\":\\\\\\\"integer\\\\\\\",\\\\\\\"columnSigned\\\\\\\":true,\\\\\\\"columnType\\\\\\\":4,\\\\\\\"columnLength\\\\\\\":-1,\\\\\\\"columnNullable\\\\\\\":true,\\\\\\\"columnScale\\\\\\\":0}}},{\\\\\\\"name\\\\\\\":\\\\\\\"MARITAL_STATUS\\\\\\\",\\\\\\\"type\\\\\\\":\\\\\\\"string\\\\\\\",\\\\\\\"nullable\\\\\\\":true,\\\\\\\"metadata\\\\\\\":{\\\\\\\"columnInfo\\\\\\\":{\\\\\\\"columnPrimaryKey\\\\\\\":false,\\\\\\\"columnTypeName\\\\\\\":\\\\\\\"varchar\\\\\\\",\\\\\\\"columnSigned\\\\\\\":true,\\\\\\\"columnType\\\\\\\":12,\\\\\\\"columnLength\\\\\\\":1024,\\\\\\\"columnNullable\\\\\\\":true,\\\\\\\"columnScale\\\\\\\":0}}},{\\\\\\\"name\\\\\\\":\\\\\\\"PROFESSION\\\\\\\",\\\\\\\"type\\\\\\\":\\\\\\\"string\\\\\\\",\\\\\\\"nullable\\\\\\\":true,\\\\\\\"metadata\\\\\\\":{\\\\\\\"columnInfo\\\\\\\":{\\\\\\\"columnPrimaryKey\\\\\\\":false,\\\\\\\"columnTypeName\\\\\\\":\\\\\\\"varchar\\\\\\\",\\\\\\\"columnSigned\\\\\\\":true,\\\\\\\"columnType\\\\\\\":12,\\\\\\\"columnLength\\\\\\\":1024,\\\\\\\"columnNullable\\\\\\\":true,\\\\\\\"columnScale\\\\\\\":0}}}]}\\\",\\\"labelCol\\\":\\\"PRODUCT_LINE\\\"}\",\"scoringEndPoint\":\"https://prod-scoring-ml.spark.bluemix.net:32768/v1/score/227\",\"scoringApiKey\":\"hlmh+NzxdE5MqdQVDdRENg==\",\"repoPath\":\"clRepo_Nov29/iautotest\",\"modelSize\":\"284697656 Bytes\"}]}\n", 
                    "name": "stdout"
                }
            ], 
            "metadata": {
                "collapsed": false
            }
        }, 
        {
            "cell_type": "markdown", 
            "source": "# 7. Predict calling the scoring endpoint", 
            "metadata": {}
        }, 
        {
            "cell_type": "code", 
            "source": "payload = {\"record\":[\"M\",65,\"Married\",\"Professional\"]}\n\nscoring_header = {'Content-Type': 'application/json', 'Accept': 'application/json', 'Authorization': scoringApiKey}\n\nresponse = requests.post(scoringEndPoint, json=payload, headers=scoring_header)\n\nstatus = response.status_code\nstatement = response.text\n\nif status != 200:\n    raise Exception(\"Scoring endpoint prediction failed\", \"status code=\"+str(status), statement)\n    \nprint statement", 
            "execution_count": 22, 
            "outputs": [
                {
                    "output_type": "stream", 
                    "text": "{\"result\":{\"gender_code\":0.0,\"GENDER\":\"M\",\"features\":{\"values\":[0.0,65.0,0.0,1.0]},\"marital_status_code\":0.0,\"prediction\":3.0,\"AGE\":65,\"profession_code\":1.0,\"MARITAL_STATUS\":\"Married\",\"rawPrediction\":{\"values\":[-9.099853873246575,-10.676481070981191,-10.61705677351417,-8.984461572740972,-12.408242362820573]},\"PROFESSION\":\"Professional\",\"probability\":{\"values\":[0.38686452726726267,0.07995367266670689,0.08484886989514148,0.43418333401545434,0.014149596155434636]}}}\n", 
                    "name": "stdout"
                }
            ], 
            "metadata": {
                "collapsed": false
            }
        }, 
        {
            "cell_type": "markdown", 
            "source": "### 8. Delete the deployed model to free up resources", 
            "metadata": {}
        }, 
        {
            "cell_type": "code", 
            "source": "url =  realtimeUrl + \"/deployment/model/realtime/\"+deploymentId\n\nresponse = requests.delete(url, headers=header)\n\nif response.status_code != 204:\n    raise Exception(\"Delete deployed model failed\", \"status code=\"+str(response.status_code), response.text)\n    \nprint response.status_code", 
            "execution_count": null, 
            "outputs": [
                {
                    "output_type": "stream", 
                    "text": "204\n", 
                    "name": "stdout"
                }
            ], 
            "metadata": {
                "collapsed": false
            }
        }, 
        {
            "cell_type": "markdown", 
            "source": "### 9. Delete the kernel after run the test", 
            "metadata": {}
        }, 
        {
            "cell_type": "code", 
            "source": "url = ingestUrl + \"/ingest/kernel/\"+kernelId+\"?instanceID=\"+instanceId\n\nresponse = requests.delete(url, headers=header)\n\nstatus = response.status_code\n\nif  status != 204 and status != 200:\n    raise Exception(\"Delete kernel=\"+kernelId+\" failed for instanceId=\"+instanceId, \"status code=\"+str(status), response.text)\n    \nprint status", 
            "execution_count": 16, 
            "outputs": [
                {
                    "evalue": "(u'Delete kernel=581bf919-226e-4cf6-86d9-8681e23b4123 failed for instanceId=507aaee9-5ebb-4722-94c8-84c432140908', 'status code=404', u'{\"responseCode\":\"Not found\",\"message\":\"Kernel Not Found\"}')", 
                    "traceback": [
                        "\u001b[1;31m\u001b[0m", 
                        "\u001b[1;31mException\u001b[0mTraceback (most recent call last)", 
                        "\u001b[1;32m<ipython-input-16-9e5447506a3c>\u001b[0m in \u001b[0;36m<module>\u001b[1;34m()\u001b[0m\n\u001b[0;32m      6\u001b[0m \u001b[1;33m\u001b[0m\u001b[0m\n\u001b[0;32m      7\u001b[0m \u001b[1;32mif\u001b[0m  \u001b[0mstatus\u001b[0m \u001b[1;33m!=\u001b[0m \u001b[1;36m204\u001b[0m \u001b[1;32mand\u001b[0m \u001b[0mstatus\u001b[0m \u001b[1;33m!=\u001b[0m \u001b[1;36m200\u001b[0m\u001b[1;33m:\u001b[0m\u001b[1;33m\u001b[0m\u001b[0m\n\u001b[1;32m----> 8\u001b[1;33m     \u001b[1;32mraise\u001b[0m \u001b[0mException\u001b[0m\u001b[1;33m(\u001b[0m\u001b[1;34m\"Delete kernel=\"\u001b[0m\u001b[1;33m+\u001b[0m\u001b[0mkernelId\u001b[0m\u001b[1;33m+\u001b[0m\u001b[1;34m\" failed for instanceId=\"\u001b[0m\u001b[1;33m+\u001b[0m\u001b[0minstanceId\u001b[0m\u001b[1;33m,\u001b[0m \u001b[1;34m\"status code=\"\u001b[0m\u001b[1;33m+\u001b[0m\u001b[0mstr\u001b[0m\u001b[1;33m(\u001b[0m\u001b[0mstatus\u001b[0m\u001b[1;33m)\u001b[0m\u001b[1;33m,\u001b[0m \u001b[0mresponse\u001b[0m\u001b[1;33m.\u001b[0m\u001b[0mtext\u001b[0m\u001b[1;33m)\u001b[0m\u001b[1;33m\u001b[0m\u001b[0m\n\u001b[0m\u001b[0;32m      9\u001b[0m \u001b[1;33m\u001b[0m\u001b[0m\n\u001b[0;32m     10\u001b[0m \u001b[1;32mprint\u001b[0m \u001b[0mstatus\u001b[0m\u001b[1;33m\u001b[0m\u001b[0m\n", 
                        "\u001b[1;31mException\u001b[0m: (u'Delete kernel=581bf919-226e-4cf6-86d9-8681e23b4123 failed for instanceId=507aaee9-5ebb-4722-94c8-84c432140908', 'status code=404', u'{\"responseCode\":\"Not found\",\"message\":\"Kernel Not Found\"}')"
                    ], 
                    "ename": "Exception", 
                    "output_type": "error"
                }
            ], 
            "metadata": {
                "collapsed": false
            }
        }, 
        {
            "cell_type": "markdown", 
            "source": "## 10. Delete the artifact", 
            "metadata": {
                "collapsed": false
            }
        }, 
        {
            "cell_type": "code", 
            "source": "url = gitUrl + \"/repos/artifacts/\"+artifactId\n\ndelete_header = {'Content-Type': 'application/json', 'Authorization': bearer_token}\nresponse = requests.delete(url, headers=delete_header)\n\nif response.status_code != 204:\n    raise Exception(\"Delete artifact failed\", \"status code=\"+str(response.status_code), response.text)\n    \nprint response.status_code", 
            "execution_count": 28, 
            "outputs": [
                {
                    "output_type": "stream", 
                    "text": "200\n", 
                    "name": "stdout"
                }
            ], 
            "metadata": {
                "collapsed": false
            }
        }, 
        {
            "cell_type": "markdown", 
            "source": "## 11. Delete the repository", 
            "metadata": {}
        }, 
        {
            "cell_type": "code", 
            "source": "url = gitUrl + \"/repos/\"+repositoryName\n\nresponse = requests.delete(url, headers=header)\n\nif response.status_code != 204:\n    raise Exception(\"Delete repository failed\", \"status code=\"+str(response.status_code), response.text)\n    \nprint response.status_code", 
            "execution_count": 29, 
            "outputs": [
                {
                    "output_type": "stream", 
                    "text": "200\n", 
                    "name": "stdout"
                }
            ], 
            "metadata": {
                "collapsed": false
            }
        }, 
        {
            "cell_type": "code", 
            "source": "", 
            "execution_count": null, 
            "outputs": [], 
            "metadata": {
                "collapsed": true
            }
        }
    ], 
    "nbformat_minor": 0, 
    "nbformat": 4, 
    "metadata": {
        "kernelspec": {
            "language": "python", 
            "display_name": "Python 2 with Spark 1.6", 
            "name": "python2"
        }, 
        "language_info": {
            "pygments_lexer": "ipython2", 
            "mimetype": "text/x-python", 
            "nbconvert_exporter": "python", 
            "name": "python", 
            "file_extension": ".py", 
            "version": "2.7.11", 
            "codemirror_mode": {
                "version": 2, 
                "name": "ipython"
            }
        }
    }
}