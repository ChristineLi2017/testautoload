{
    "nbformat_minor": 0, 
    "cells": [
        {
            "cell_type": "code", 
            "execution_count": 24, 
            "source": "!PIP_USER= pip list", 
            "outputs": [
                {
                    "name": "stdout", 
                    "output_type": "stream", 
                    "text": "Babel (2.1.1)\nbackports-abc (0.4)\nbackports.shutil-get-terminal-size (1.0.0)\nbackports.ssl-match-hostname (3.4.0.2)\nbasemap (1.0.7)\nbeautifulsoup4 (4.4.1)\nbiopython (1.66)\nbitarray (0.8.1)\nbokeh (0.10.0)\nbrunel (1.1)\ncdsax-jupyter-extensions (0.1)\ncertifi (2015.11.20.1)\ncognitive-assistant (1.0.25)\nconfigparser (3.5.0)\ncycler (0.9.0)\nCython (0.23.4)\ndebtcollector (1.1.0)\ndecorator (4.0.6)\ndescartes (1.0.1)\ndill (0.2.5)\nentrypoints (0.2.2)\nenum (0.4.6)\nextras (0.0.3)\nfixtures (2.0.0)\nFlask (0.10.1)\nfuncsigs (0.4)\nfunctools32 (3.2.3.post2)\nfuture (0.15.2)\nfutures (3.0.5)\ngeopy (1.11.0)\nibmdbpy (0.1.3.post6)\nip-associations-python-novaclient-ext (0.1)\nipykernel (4.3.1)\nipython (4.2.0)\nipython-genutils (0.1.0)\nipywidgets (5.1.5)\niso8601 (0.1.11)\nitsdangerous (0.24)\nJayDeBeApi (0.2.0)\nJinja2 (2.8)\nJPype1 (0.6.1)\njsonschema (2.5.1)\njupyter-client (4.2.2)\njupyter-console (4.1.1)\njupyter-core (4.1.0)\njupyter-kernel-gateway (1.0.0)\njupyter-pip (0.3)\nkeyring (5.7)\nkeystoneauth1 (2.1.0)\nlazy (1.2)\nlinecache2 (1.0.0)\nlxml (3.5.0)\nMarkupSafe (0.23)\nmatplotlib (1.5.0)\nmaven-artifact (0.1.6)\nmistune (0.7.1)\nmock (1.3.0)\nmonotonic (0.4)\nmpld3 (0.2)\nmplleaflet (0.0.5)\nmsgpack-python (0.4.6)\nMySQL-python (1.2.5)\nnbconvert (4.1.0)\nnbformat (4.0.1)\nnetaddr (0.7.18)\nnetifaces (0.10.4)\nnetworkx (1.10)\nnltk (3.1)\nnose (1.3.7)\nnotebook (4.2.0)\nnumexpr (2.4.6)\nnumpy (1.10.4)\nos-diskconfig-python-novaclient-ext (0.1.2)\nos-networksv2-python-novaclient-ext (0.25)\nos-virtual-interfacesv2-python-novaclient-ext (0.19)\noslo.config (3.1.0)\noslo.i18n (3.1.0)\noslo.serialization (2.1.0)\noslo.utils (3.2.0)\npandas (0.17.1)\npath.py (8.1.2)\npatsy (0.4.1)\npbr (1.8.1)\npexpect (4.0.1)\npickleshare (0.5)\nPillow (3.0.0)\npip (8.1.0)\npixiedust (0.38)\nprettytable (0.7.2)\nprojectnb (0.1.4)\npsycopg2 (2.5.4)\nptyprocess (0.5)\nPygments (2.0.2)\npyparsing (2.0.6)\npyproj (1.9.4)\npypyodbc (1.3.3)\npyrax (1.9.5)\npyshp (1.2.3)\npython-dateutil (2.4.2)\npython-keystoneclient (2.0.0)\npython-mimeparse (1.5.1)\npython-novaclient (2.35.0)\npython-subunit (1.2.0)\npytz (2015.7)\nPyYAML (3.11)\npyzmq (15.1.0)\nrackspace-auth-openstack (1.3)\nrackspace-novaclient (1.5)\nrax-default-network-flags-python-novaclient-ext (0.3.2)\nrax-scheduled-images-python-novaclient-ext (0.3.1)\nrepoze.lru (0.6)\nrequests (2.9.1)\nscikit-image (0.11.3)\nscikit-learn (0.17)\nscipy (0.17.0)\nsetuptools (27.3.0)\nsilpa-common (0.3)\nsimplegeneric (0.8.1)\nsimplejson (3.8.1)\nsingledispatch (3.4.0.3)\nsix (1.10.0)\nsoundex (1.1.3)\nstatsmodels (0.6.1)\nstevedore (1.10.0)\nsympy (0.7.6.1)\nterminado (0.5)\ntestrepository (0.0.20)\ntesttools (2.1.0)\ntornado (4.3)\ntraceback2 (1.4.0)\ntraitlets (4.2.1)\nunittest2 (1.1.0)\nurllib3 (1.14)\nWerkzeug (0.11.2)\nwidgetsnbextension (1.2.3)\nwrapt (1.10.6)\n"
                }
            ], 
            "metadata": {
                "collapsed": false
            }
        }, 
        {
            "cell_type": "code", 
            "execution_count": 17, 
            "source": "!PIP_USER= pip freeze", 
            "outputs": [
                {
                    "name": "stdout", 
                    "output_type": "stream", 
                    "text": "Babel==2.1.1\r\nbackports-abc==0.4\r\nbackports.shutil-get-terminal-size==1.0.0\r\nbackports.ssl-match-hostname==3.4.0.2\r\nbasemap==1.0.7\r\nbeautifulsoup4==4.4.1\r\nbiopython==1.66\r\nbitarray==0.8.1\r\nbokeh==0.10.0\r\nbrunel==1.1\r\ncdsax-jupyter-extensions==0.1\r\ncertifi==2015.11.20.1\r\ncognitive-assistant==1.0.25\r\nconfigparser==3.5.0\r\ncycler==0.9.0\r\nCython==0.23.4\r\ndebtcollector==1.1.0\r\ndecorator==4.0.6\r\ndescartes==1.0.1\r\ndill==0.2.5\r\nentrypoints==0.2.2\r\nenum==0.4.6\r\nextras==0.0.3\r\nfixtures==2.0.0\r\nFlask==0.10.1\r\nfuncsigs==0.4\r\nfunctools32==3.2.3.post2\r\nfuture==0.15.2\r\nfutures==3.0.5\r\ngeopy==1.11.0\r\nibmdbpy==0.1.3.post6\r\nip-associations-python-novaclient-ext==0.1\r\nipykernel==4.3.1\r\nipython==4.2.0\r\nipython-genutils==0.1.0\r\nipywidgets==5.1.5\r\niso8601==0.1.11\r\nitsdangerous==0.24\r\nJayDeBeApi==0.2.0\r\nJinja2==2.8\r\nJPype1==0.6.1\r\njsonschema==2.5.1\r\njupyter-client==4.2.2\r\njupyter-console==4.1.1\r\njupyter-core==4.1.0\r\njupyter-kernel-gateway==1.0.0\r\njupyter-pip==0.3\r\nkeyring==5.7\r\nkeystoneauth1==2.1.0\r\nlazy==1.2\r\nlinecache2==1.0.0\r\nlxml==3.5.0\r\nMarkupSafe==0.23\r\nmatplotlib==1.5.0\r\nmaven-artifact==0.1.6\r\nmistune==0.7.1\r\nmock==1.3.0\r\nmonotonic==0.4\r\nmpld3==0.2\r\nmplleaflet==0.0.5\r\nmsgpack-python==0.4.6\r\nMySQL-python==1.2.5\r\nnbconvert==4.1.0\r\nnbformat==4.0.1\r\nnetaddr==0.7.18\r\nnetifaces==0.10.4\r\nnetworkx==1.10\r\nnltk==3.1\r\nnose==1.3.7\r\nnotebook==4.2.0\r\nnumexpr==2.4.6\r\nnumpy==1.10.4\r\nos-diskconfig-python-novaclient-ext==0.1.2\r\nos-networksv2-python-novaclient-ext==0.25\r\nos-virtual-interfacesv2-python-novaclient-ext==0.19\r\noslo.config==3.1.0\r\noslo.i18n==3.1.0\r\noslo.serialization==2.1.0\r\noslo.utils==3.2.0\r\npandas==0.17.1\r\npath.py==8.1.2\r\npatsy==0.4.1\r\npbr==1.8.1\r\npexpect==4.0.1\r\npickleshare==0.5\r\nPillow==3.0.0\r\npixiedust==0.38\r\nprettytable==0.7.2\r\nprojectnb==0.1.4\r\npsycopg2==2.5.4\r\nptyprocess==0.5\r\nPygments==2.0.2\r\npyparsing==2.0.6\r\npyproj==1.9.4\r\npypyodbc==1.3.3\r\npyrax==1.9.5\r\npyshp==1.2.3\r\npython-dateutil==2.4.2\r\npython-keystoneclient==2.0.0\r\npython-mimeparse==1.5.1\r\npython-novaclient==2.35.0\r\npython-subunit==1.2.0\r\npytz==2015.7\r\nPyYAML==3.11\r\npyzmq==15.1.0\r\nrackspace-auth-openstack==1.3\r\nrackspace-novaclient==1.5\r\nrax-default-network-flags-python-novaclient-ext==0.3.2\r\nrax-scheduled-images-python-novaclient-ext==0.3.1\r\nrepoze.lru==0.6\r\nrequests==2.9.1\r\nscikit-image==0.11.3\r\nscikit-learn==0.17\r\nscipy==0.17.0\r\nsilpa-common==0.3\r\nsimplegeneric==0.8.1\r\nsimplejson==3.8.1\r\nsingledispatch==3.4.0.3\r\nsix==1.10.0\r\nsoundex==1.1.3\r\nstatsmodels==0.6.1\r\nstevedore==1.10.0\r\nsympy==0.7.6.1\r\nterminado==0.5\r\ntestrepository==0.0.20\r\ntesttools==2.1.0\r\ntornado==4.3\r\ntraceback2==1.4.0\r\ntraitlets==4.2.1\r\nunittest2==1.1.0\r\nurllib3==1.14\r\nWerkzeug==0.11.2\r\nwidgetsnbextension==1.2.3\r\nwrapt==1.10.6\r\n"
                }
            ], 
            "metadata": {
                "collapsed": false
            }
        }, 
        {
            "cell_type": "code", 
            "execution_count": 26, 
            "source": "!ls -la ~/notebook/pipeline/stages/0_tok_e3d62a5b1667/metadata", 
            "outputs": [
                {
                    "name": "stdout", 
                    "output_type": "stream", 
                    "text": "total 0\r\ndrwxr-xr-x 2 s6b5-0f0a7806f21c75-22e5c9fece8a users 4096 Jan 12 15:05 .\r\ndrwxr-xr-x 3 s6b5-0f0a7806f21c75-22e5c9fece8a users 4096 Jan 12 15:05 ..\r\n-rw-r--r-- 1 s6b5-0f0a7806f21c75-22e5c9fece8a users  175 Jan 12 15:05 part-00000\r\n-rw-r--r-- 1 s6b5-0f0a7806f21c75-22e5c9fece8a users   12 Jan 12 15:05 .part-00000.crc\r\n-rw-r--r-- 1 s6b5-0f0a7806f21c75-22e5c9fece8a users    0 Jan 12 15:05 _SUCCESS\r\n-rw-r--r-- 1 s6b5-0f0a7806f21c75-22e5c9fece8a users    8 Jan 12 15:05 ._SUCCESS.crc\r\n"
                }
            ], 
            "metadata": {
                "collapsed": false
            }
        }, 
        {
            "cell_type": "code", 
            "execution_count": 3, 
            "source": "!pwd", 
            "outputs": [
                {
                    "name": "stdout", 
                    "output_type": "stream", 
                    "text": "/gpfs/fs01/user/s6b5-0f0a7806f21c75-22e5c9fece8a/notebook/work\r\n"
                }
            ], 
            "metadata": {
                "collapsed": false
            }
        }, 
        {
            "cell_type": "code", 
            "execution_count": 4, 
            "source": "!ls -la /gpfs/fs01/user/s6b5-0f0a7806f21c75-22e5c9fece8a/data/libs", 
            "outputs": [
                {
                    "name": "stdout", 
                    "output_type": "stream", 
                    "text": "total 138744\r\ndrwx------ 2 s6b5-0f0a7806f21c75-22e5c9fece8a users     4096 Jan 12 14:14 .\r\ndrwx------ 6 s6b5-0f0a7806f21c75-22e5c9fece8a users     4096 Jan 12 14:07 ..\r\n-rwx------ 1 s6b5-0f0a7806f21c75-22e5c9fece8a users 47357204 Jan 12 14:54 repository-scala-0.1.jar\r\n"
                }
            ], 
            "metadata": {
                "collapsed": false
            }
        }, 
        {
            "cell_type": "code", 
            "execution_count": 6, 
            "source": "!ls kgateway", 
            "outputs": [
                {
                    "name": "stdout", 
                    "output_type": "stream", 
                    "text": "ls: cannot access kgateway: No such file or directory\r\n"
                }
            ], 
            "metadata": {
                "collapsed": false
            }
        }, 
        {
            "cell_type": "code", 
            "execution_count": 16, 
            "source": "!cat ~/kgateway/spark-config/spark20master/spark-env.sh", 
            "outputs": [
                {
                    "name": "stdout", 
                    "output_type": "stream", 
                    "text": "\r\n\r\n_plan_=s\r\n_home_=/gpfs/fs01/user/se9b-7171fd6254b975-22e5c9fece8a\r\n\r\n\r\nSPARK_HOME=${SPARK_HOME:-/usr/local/src/spark20master/spark}\r\nSPARK_EGO_STAGING_DIR=${SPARK_EGO_STAGING_DIR:-/tmp/spark-20-ego-master/staging}\r\nSPARK_EGO_NATIVE_LIBRARY=$SPARK_HOME/ego/libSparkVEMApi.so\r\nSPARK_EGO_DRIVER_CONSUMER=${SPARK_EGO_DRIVER_CONSUMER:-/SparkDrivers}\r\nSPARK_EGO_EXECUTOR_CONSUMER=${SPARK_EGO_EXECUTOR_CONSUMER:-/SparkOnBluemix/Spark20MasterLow/*}\r\nSPARK_EGO_DRIVER_PLAN=${SPARK_EGO_DRIVER_PLAN:-ComputeHosts}\r\nSPARK_EGO_EXECUTOR_PLAN=${SPARK_EGO_EXECUTOR_PLAN:-ComputeHosts}\r\nSPARK_LOCAL_DIRS=${SPARK_WORKER_DIR:-/tmp/spark-20-ego-master/work}\r\nSPARK_WORK_DIR=${SPARK_WORKER_DIR:-/tmp/spark-20-ego-master/work}\r\nSPARK_EGO_APP_SCHEDULE_POLICY=hierarchy\r\nSPARK_DEPLOY_RESOURCE_SCHEDULER=ego\r\nSPARK_MASTER_IP=$HOSTNAME\r\nSPARK_MASTER_PORT=${SPARK_MASTER_PORT:-7085}\r\nSPARK_MASTER_WEBUI_PORT=${SPARK_WEBUI_PORT:-12026}\r\nSPARK_EXECUTOR_OPTS=\"-Dspark.shuffle.service.port=7341\"\r\nSPARK_EXECUTOR_MEMORY=6G\r\nSPARK_EGO_EXECUTOR_SLOTS_MAX=3\r\nSPARK_EGO_EXECUTOR_IDLE_TIMEOUT=600\r\nSPARK_DRIVER_MEMORY=1512M\r\n\r\ncase ${_plan_,,} in\r\n    ( l | x )\r\n    SPARK_DRIVER_MEMORY=16384M\r\n    ;;\r\n\r\n    (*)\r\n    ;;\r\nesac\r\n\r\n\r\nexport SPARK_EGO_IMPERSONATION=true\r\nexport SPARK_EGO_AUTHORIZATION_ENABLED=true\r\nexport SPARK_EGO_RUN_AS_SERVICE=true\r\nexport SPARK_EGO_CLIENT_TIMEOUT=1200\r\nexport SPARK_EGO_IPYTHON=true\r\n\r\nexport JAVA_HOME=/usr/local/src/spark20master/ibm-java-x86_64-80\r\n\r\n_ext_OC_=/usr/local/src/dataconnector-stocator/spark-2.0.0\r\n_ext_CL_=/usr/local/src/dataconnector-cloudant-2.0/spark-2.0.0\r\n_ext_AL_=/usr/local/src/analytic-libs-2.0/spark-2.0.0\r\n_ext_DW_=/usr/local/src/dataconnector-dw-2.0/spark-2.0.0\r\n_ext_S3_=/usr/local/src/dataconnector-s3-2.0/spark-2.0.0\r\n_ext_ES_=/usr/local/src/event-stream-2.0/spark-2.0.0\r\n\r\nexport  PATH=$JAVA_HOME/bin:$PATH\r\n\r\nexport LD_LIBRARY_PATH=/usr/local/lib:${_ext_DW_}/Server/connectivity/lib:${_ext_DW_}/Server/connectivity/lib/daapi-sca:${_ext_DW_}/Server/connectivity/lib/C/icc/icclib:${_ext_DW_}/Server/connectivity/lib/C/icc/osslib:${_ext_DW_}/Server/connectivity/lib/N/icc/icclib:${_ext_DW_}/Server/connectivity/lib/N/icc/osslib:${_ext_DW_}/Server/connectivity/lib/daapi-xml:${JAVA_HOME}/jre/lib/amd64/compressedrefs:$LD_LIBRARY_PATH\r\n\r\n\r\nexport SPARK_SUBMIT_CLASSPATH=${_ext_DW_}/Server/connectivity/thirdparty/avro-1.8.0.jar:$SPARK_SUBMIT_CLASSPATH\r\nexport SPARK_DIST_CLASSPATH=${_home_}/data/libs:${_home_}/data/libs/*:${_ext_OC_}/libs/*:${_ext_S3_}/libs/*:${_ext_CL_}/libs/*:${_ext_AL_}/*:${_ext_DW_}/Server/connectivity/jars/*:${_ext_DW_}/Server/connectivity/jdbc/lib/*:${_ext_DW_}/Server/connectivity/thirdparty/*:${_ext_DW_}/libs/*:${_ext_DW_}/Server/connectivity/thirdparty/aws/*:${_ext_DW_}/Server/connectivity/config:${_ext_DW_}/Server/connectivity/FaspStreamSDK/lib/*:${_ext_DW_}/Server/connectivity/jars/JISPlugins/*:${_ext_DW_}/Server/connectivity/branded_jdbc/lib/*:${_ext_DW_}/ASBServer/apps/lib/iis/*/*:${_ext_DW_}/Server/connectivity/connectors/*/*:${_ext_ES_}/libs/*:/usr/local/src/dataconnector-db2/*\r\n\r\nexport SPARK_EGO_CLASSPATH=$SPARK_SUBMIT_CLASSPATH\r\nexport SPARK_EGO_JARS=$SPARK_HOME/ego/spark-launcher_2.11-2.0.1.jar:$SPARK_HOME/ego/spark-network-shuffle_2.11-2.0.1.jar:$SPARK_HOME/ego/gson-2.2.4.jar:$SPARK_HOME/ego/guava-14.0.1.jar:$SPARK_HOME/ego/Java-WebSocket-1.3.0.jar:$SPARK_HOME/ego/spark-ego_2.11-2.0.1.jar\r\n\r\n\r\nexport SPARK_EGO_HIERARCHY_CONF_FILE=$SPARK_HOME/profile/notebook/tag.json\r\n\r\nSPARK_HISTORY_LOG=${SPARK_EVENTS_DIR:-/gpfs/fs01/spark-ego-master}\r\nexport SPARK_HISTORY_OPTS=\"$SPARK_HISTORY_OPTS -Dspark.eventLog.enabled=true -Dspark.eventLog.dir=$SPARK_HISTORY_LOG -Dspark.history.fs.logDirectory=$SPARK_HISTORY_LOG\"\r\n\r\nexport DW_CONN_HOME=${_ext_DW_}/Server\r\n\r\nexport CC_DISABLE_BIG_BUFFER_API=true\r\n\r\nexport NGWB_TAM_FILE_LOCATION=${_ext_AL_}/tam\r\nexport SPARK_SUBMIT_LIBRARY_PATH=$LD_LIBRARY_PATH\r\n\r\n\r\n# Redirect spark executor logs to tenant home directory in GPFS\r\nSPARK_EGO_LOG_DIR=~/logs/spark/executor\r\n\r\nexport NOTEBOOK_HOME=/usr/local/src/bluemix_jupyter_bundle.v25/notebook\r\nexport PYSPARK_PYTHON=$NOTEBOOK_HOME/bin/python\r\n\r\n_old_options=${-}\r\nset -a\r\n# source package profiles\r\n. $NOTEBOOK_HOME/notebook-env.sh\r\n\r\nif [[ $_old_options != *a* ]]; then\r\n  set +a\r\nfi\r\nunset _old_options\r\n\r\nexport DEPLOY_HOME=/usr/local/src/bluemix_jupyter_bundle.v25\r\nexport R_LIBS_USER=~/R/libs\r\nexport R_HOME_PREFIX=/usr/local/src/bluemix_jupyter_bundle.v25\r\n\r\n\r\n\r\n_py_version_=2.7\r\n_py_spark_dir_=\r\nif [ -n \"\" ]; then\r\n  PYTHONPATH=\"$PYTHONPATH:$_py_spark_dir_$_py_version_:$_py_spark_dir_\"\r\nfi\r\n\r\n\r\nexport SPARK_SCALA_VERSION=2.11\r\nexport SPARK_DIST_CLASSPATH=${_home_}/data/libs/scala-2.11/*:$SPARK_DIST_CLASSPATH\r\n\r\nexport SCALA_HOME=/usr/local/src/scala/2.11\r\nexport PATH=$SCALA_HOME/bin:$PATH\r\n\r\n"
                }
            ], 
            "metadata": {
                "collapsed": false
            }
        }, 
        {
            "cell_type": "code", 
            "execution_count": null, 
            "source": "", 
            "outputs": [], 
            "metadata": {
                "collapsed": true
            }
        }
    ], 
    "metadata": {
        "kernelspec": {
            "display_name": "Python 2 with Spark 2.0", 
            "language": "python", 
            "name": "python2-spark20"
        }, 
        "language_info": {
            "version": "2.7.11", 
            "nbconvert_exporter": "python", 
            "mimetype": "text/x-python", 
            "file_extension": ".py", 
            "name": "python", 
            "pygments_lexer": "ipython2", 
            "codemirror_mode": {
                "version": 2, 
                "name": "ipython"
            }
        }
    }, 
    "nbformat": 4
}