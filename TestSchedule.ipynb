{
    "nbformat_minor": 0, 
    "cells": [
        {
            "cell_type": "code", 
            "execution_count": null, 
            "source": "# @hidden_cell\n# The project token is an authorization token that is used to access project resources like data sources, connections, and used by platform APIs.\nfrom projectnb import ProjectContext\npc = ProjectContext.ProjectContext(sc, '5b7c3bbf-fd26-4ee3-9fef-2a7d6ba90277', 'p-68f11e427b287d69b8001e357ea5c83a03a015e0')\n", 
            "outputs": [], 
            "metadata": {
                "collapsed": true
            }
        }, 
        {
            "cell_type": "code", 
            "execution_count": null, 
            "source": "\n# @hidden_cell\n# This function accesses a file in your Object Storage. The definition contains your credentials.\n# You might want to remove those credentials before you share your notebook.\ndef set_hadoop_config_with_credentials_6dd74b2de226431689c973562d119b48(name):\n    \"\"\"This function sets the Hadoop configuration so it is possible to\n    access data from Bluemix Object Storage V3 using Spark\"\"\"\n\n    prefix = 'fs.swift.service.' + name\n    hconf = sc._jsc.hadoopConfiguration()\n    hconf.set(prefix + '.auth.url', 'https://identity.open.softlayer.com'+'/v3/auth/tokens')\n    hconf.set(prefix + '.auth.endpoint.prefix', 'endpoints')\n    hconf.set(prefix + '.tenant', '3150e56342664b80b144f0580a0387c4')\n    hconf.set(prefix + '.username', 'dfad7f11d1b9427fa789f00b333bba3f')\n    hconf.set(prefix + '.password', 'Hs([22Q7.cNmlP)t')\n    hconf.setInt(prefix + '.http.port', 8080)\n    hconf.set(prefix + '.region', 'dallas')\n    hconf.setBoolean(prefix + '.public', True)\n\n# you can choose any name\nname = 'keystone'\nset_hadoop_config_with_credentials_6dd74b2de226431689c973562d119b48(name)\n\nrdd_data_1 = sc.textFile(\"swift://CollaborationOrg.\" + name + \"/transactions-for-lr-pipeline-tents.csv\")\nrdd_data_1.take(5)\n# @hidden_cell\ncredentials_1 = {\n  'auth_url':'https://identity.open.softlayer.com',\n  'project':'object_storage_6dd74b2d_e226_4316_89c9_73562d119b48',\n  'project_id':'3150e56342664b80b144f0580a0387c4',\n  'region':'dallas',\n  'user_id':'dfad7f11d1b9427fa789f00b333bba3f',\n  'domain_id':'d4015e761ec34d1682e35fdcbe0c3e56',\n  'domain_name':'1026663',\n  'username':'member_08cda06ea9096ee8eae6f4c1f9a6d62169823fe9',\n  'password':\"\"\"Hs([22Q7.cNmlP)t\"\"\",\n  'container':'CollaborationOrg',\n  'tenantId':'undefined',\n  'filename':'transactions-for-nb-pipeline.csv'\n}", 
            "outputs": [], 
            "metadata": {
                "collapsed": true
            }
        }
    ], 
    "metadata": {
        "kernelspec": {
            "display_name": "Python 2 with Spark 1.6", 
            "language": "python", 
            "name": "python2"
        }, 
        "language_info": {
            "version": "2.7.11", 
            "nbconvert_exporter": "python", 
            "mimetype": "text/x-python", 
            "file_extension": ".py", 
            "name": "python", 
            "pygments_lexer": "ipython2", 
            "codemirror_mode": {
                "version": 2, 
                "name": "ipython"
            }
        }
    }, 
    "nbformat": 4
}